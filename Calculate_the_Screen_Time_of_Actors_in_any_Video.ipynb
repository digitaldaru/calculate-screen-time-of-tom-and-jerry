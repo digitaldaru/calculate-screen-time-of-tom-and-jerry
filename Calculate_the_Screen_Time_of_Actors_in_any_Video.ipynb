{
  "nbformat": 4,
  "nbformat_minor": 0,
  "metadata": {
    "colab": {
      "name": "Calculate the Screen Time of Actors in any Video",
      "provenance": [],
      "collapsed_sections": []
    },
    "kernelspec": {
      "display_name": "Python 3",
      "name": "python3"
    },
    "language_info": {
      "name": "python"
    },
    "accelerator": "GPU"
  },
  "cells": [
    {
      "cell_type": "code",
      "metadata": {
        "id": "ypu7huIVJHA9"
      },
      "source": [
        "import cv2     \n",
        "import math   \n",
        "import matplotlib.pyplot as plt    \n",
        "%matplotlib inline\n",
        "import pandas as pd\n",
        "from keras.preprocessing import image  \n",
        "import numpy as np    \n",
        "from keras.utils import np_utils\n",
        "from skimage.transform import resize  "
      ],
      "execution_count": null,
      "outputs": []
    },
    {
      "cell_type": "code",
      "metadata": {
        "colab": {
          "base_uri": "https://localhost:8080/"
        },
        "id": "CcTFq_G3DO5K",
        "outputId": "c9da7e9c-6158-4136-af98-98b9fcc87ae1"
      },
      "source": [
        "from google.colab import drive\n",
        "drive.mount('/content/drive')"
      ],
      "execution_count": null,
      "outputs": [
        {
          "output_type": "stream",
          "name": "stdout",
          "text": [
            "Mounted at /content/drive\n"
          ]
        }
      ]
    },
    {
      "cell_type": "code",
      "metadata": {
        "id": "lFrlom8xJL7l",
        "colab": {
          "base_uri": "https://localhost:8080/"
        },
        "outputId": "97df92ed-8eb8-4b3f-d188-8ac9e657d111"
      },
      "source": [
        "count = 0\n",
        "videoFile = \"/content/drive/MyDrive/tom and jerry/training/Tom and jerry.mp4\"\n",
        "cap = cv2.VideoCapture(videoFile)   # capturing the video from the given path\n",
        "frameRate = cap.get(5) #frame rate\n",
        "x=1\n",
        "while(cap.isOpened()):\n",
        "    frameId = cap.get(1) #current frame number\n",
        "    ret, frame = cap.read()\n",
        "    if (ret != True):\n",
        "        break\n",
        "    if (frameId % math.floor(frameRate) == 0):\n",
        "        filename =\"/content/drive/MyDrive/tom and jerry/training/frames/frame%d.jpg\" % count;count+=1\n",
        "        cv2.imwrite(filename, frame)\n",
        "cap.release()\n",
        "print (\"Done!\")"
      ],
      "execution_count": null,
      "outputs": [
        {
          "output_type": "stream",
          "text": [
            "Done!\n"
          ],
          "name": "stdout"
        }
      ]
    },
    {
      "cell_type": "code",
      "metadata": {
        "id": "XNx8NtRsJrtG"
      },
      "source": [
        "img = plt.imread('/content/drive/MyDrive/tom and jerry/training/frames/frame0.jpg')   # reading image using its name\n",
        "plt.imshow(img)"
      ],
      "execution_count": null,
      "outputs": []
    },
    {
      "cell_type": "code",
      "metadata": {
        "id": "4V2c7OvAJr3d"
      },
      "source": [
        "data = pd.read_csv('/content/drive/MyDrive/tom and jerry/training/mapping (1).csv')     # reading the csv file\n",
        "data.head()      # printing first five rows of the file"
      ],
      "execution_count": null,
      "outputs": []
    },
    {
      "cell_type": "code",
      "metadata": {
        "id": "XstM4EjCJr-G"
      },
      "source": [
        "X = [ ]     # creating an empty array\n",
        "for img_name in data.Image_ID:\n",
        "    img = plt.imread('/content/drive/MyDrive/tom and jerry/training/frames/' + img_name)\n",
        "    X.append(img)  # storing each image in array X\n",
        "X = np.array(X)    # converting list to array"
      ],
      "execution_count": null,
      "outputs": []
    },
    {
      "cell_type": "code",
      "metadata": {
        "id": "zw0eLkwvJsE5"
      },
      "source": [
        "y = data.Class\n",
        "dummy_y = np_utils.to_categorical(y)    # one hot encoding Classes"
      ],
      "execution_count": null,
      "outputs": []
    },
    {
      "cell_type": "code",
      "metadata": {
        "id": "RqJXhA6RJsNl"
      },
      "source": [
        "image = []\n",
        "for i in range(0,X.shape[0]):\n",
        "    a = resize(X[i], preserve_range=True, output_shape=(224,224)).astype(int)      # reshaping to 224*224*3\n",
        "    image.append(a)\n",
        "X = np.array(image)"
      ],
      "execution_count": null,
      "outputs": []
    },
    {
      "cell_type": "code",
      "metadata": {
        "id": "tDX4hOURKEBu"
      },
      "source": [
        "from keras.applications.vgg16 import preprocess_input\n",
        "X = preprocess_input(X)      # preprocessing the input data"
      ],
      "execution_count": null,
      "outputs": []
    },
    {
      "cell_type": "code",
      "metadata": {
        "id": "0S4ZCgZTKEJj"
      },
      "source": [
        "from sklearn.model_selection import train_test_split\n",
        "X_train, X_valid, y_train, y_valid = train_test_split(X, dummy_y, test_size=0.2, random_state=42)    # preparing the validation set"
      ],
      "execution_count": null,
      "outputs": []
    },
    {
      "cell_type": "code",
      "metadata": {
        "id": "TqiRkSmpKEVf"
      },
      "source": [
        "from keras.models import Sequential\n",
        "from keras.applications.vgg16 import VGG16\n",
        "from keras.layers import Dense, InputLayer, Dropout"
      ],
      "execution_count": null,
      "outputs": []
    },
    {
      "cell_type": "code",
      "metadata": {
        "id": "SnpLWFoyKKxR",
        "colab": {
          "base_uri": "https://localhost:8080/"
        },
        "outputId": "af543a7b-9207-41fd-b841-ed34328df568"
      },
      "source": [
        "base_model = VGG16(weights='imagenet', include_top=False, input_shape=(224, 224, 3))    # include_top=False to remove the top layer"
      ],
      "execution_count": null,
      "outputs": [
        {
          "output_type": "stream",
          "text": [
            "Downloading data from https://storage.googleapis.com/tensorflow/keras-applications/vgg16/vgg16_weights_tf_dim_ordering_tf_kernels_notop.h5\n",
            "58892288/58889256 [==============================] - 0s 0us/step\n",
            "58900480/58889256 [==============================] - 0s 0us/step\n"
          ],
          "name": "stdout"
        }
      ]
    },
    {
      "cell_type": "code",
      "metadata": {
        "id": "f4qICVHKKK8a",
        "colab": {
          "base_uri": "https://localhost:8080/"
        },
        "outputId": "89b8faef-f0bb-4553-d275-a81e1736c71a"
      },
      "source": [
        "X_train = base_model.predict(X_train)\n",
        "X_valid = base_model.predict(X_valid)\n",
        "X_train.shape, X_valid.shape"
      ],
      "execution_count": null,
      "outputs": [
        {
          "output_type": "execute_result",
          "data": {
            "text/plain": [
              "((238, 7, 7, 512), (60, 7, 7, 512))"
            ]
          },
          "metadata": {
            "tags": []
          },
          "execution_count": 13
        }
      ]
    },
    {
      "cell_type": "code",
      "metadata": {
        "id": "051gvIpZKLTz"
      },
      "source": [
        "X_train = X_train.reshape(238, 7*7*512)      # converting to 1-D\n",
        "X_valid = X_valid.reshape(60, 7*7*512)"
      ],
      "execution_count": null,
      "outputs": []
    },
    {
      "cell_type": "code",
      "metadata": {
        "id": "Zgh7mSzuKSYe"
      },
      "source": [
        "train = X_train/X_train.max()      # centering the data\n",
        "X_valid = X_valid/X_train.max()"
      ],
      "execution_count": null,
      "outputs": []
    },
    {
      "cell_type": "code",
      "metadata": {
        "id": "vgwvcNypKSj8"
      },
      "source": [
        "model = Sequential()\n",
        "model.add(InputLayer((7*7*512,)))    # input layer\n",
        "model.add(Dense(units=1024, activation='sigmoid'))   # hidden layer\n",
        "model.add(Dropout(0.5))      # adding dropout\n",
        "model.add(Dense(units=512, activation='sigmoid'))    # hidden layer\n",
        "model.add(Dropout(0.5))      # adding dropout\n",
        "model.add(Dense(units=256, activation='sigmoid'))    # hidden layer\n",
        "model.add(Dropout(0.5))      # adding dropout\n",
        "model.add(Dense(4, activation='softmax'))            # output layer"
      ],
      "execution_count": null,
      "outputs": []
    },
    {
      "cell_type": "code",
      "metadata": {
        "id": "s9a-GCovKTEG",
        "colab": {
          "base_uri": "https://localhost:8080/"
        },
        "outputId": "b185ffaa-c05e-4cae-894d-27eccec236ad"
      },
      "source": [
        "model.summary()"
      ],
      "execution_count": null,
      "outputs": [
        {
          "output_type": "stream",
          "text": [
            "Model: \"sequential\"\n",
            "_________________________________________________________________\n",
            "Layer (type)                 Output Shape              Param #   \n",
            "=================================================================\n",
            "dense (Dense)                (None, 1024)              25691136  \n",
            "_________________________________________________________________\n",
            "dropout (Dropout)            (None, 1024)              0         \n",
            "_________________________________________________________________\n",
            "dense_1 (Dense)              (None, 512)               524800    \n",
            "_________________________________________________________________\n",
            "dropout_1 (Dropout)          (None, 512)               0         \n",
            "_________________________________________________________________\n",
            "dense_2 (Dense)              (None, 256)               131328    \n",
            "_________________________________________________________________\n",
            "dropout_2 (Dropout)          (None, 256)               0         \n",
            "_________________________________________________________________\n",
            "dense_3 (Dense)              (None, 4)                 1028      \n",
            "=================================================================\n",
            "Total params: 26,348,292\n",
            "Trainable params: 26,348,292\n",
            "Non-trainable params: 0\n",
            "_________________________________________________________________\n"
          ],
          "name": "stdout"
        }
      ]
    },
    {
      "cell_type": "code",
      "metadata": {
        "id": "AoUqAYUUKZx7"
      },
      "source": [
        "# ii. Compiling the model\n",
        "model.compile(loss='categorical_crossentropy', optimizer='adam', metrics=['accuracy'])"
      ],
      "execution_count": null,
      "outputs": []
    },
    {
      "cell_type": "code",
      "metadata": {
        "id": "iwCN0PdU3cCM",
        "colab": {
          "base_uri": "https://localhost:8080/"
        },
        "outputId": "ef992fec-97a0-4e69-9f73-84d0714314ca"
      },
      "source": [
        "model.fit(train, y_train, epochs=100, validation_data=(X_valid, y_valid))"
      ],
      "execution_count": null,
      "outputs": [
        {
          "output_type": "stream",
          "text": [
            "Epoch 1/100\n",
            "8/8 [==============================] - 8s 75ms/step - loss: 1.5815 - accuracy: 0.3167 - val_loss: 1.2365 - val_accuracy: 0.3500\n",
            "Epoch 2/100\n",
            "8/8 [==============================] - 0s 12ms/step - loss: 1.2840 - accuracy: 0.3333 - val_loss: 1.1648 - val_accuracy: 0.3500\n",
            "Epoch 3/100\n",
            "8/8 [==============================] - 0s 12ms/step - loss: 1.2722 - accuracy: 0.4510 - val_loss: 1.1424 - val_accuracy: 0.5000\n",
            "Epoch 4/100\n",
            "8/8 [==============================] - 0s 12ms/step - loss: 1.2515 - accuracy: 0.4448 - val_loss: 1.0752 - val_accuracy: 0.5833\n",
            "Epoch 5/100\n",
            "8/8 [==============================] - 0s 12ms/step - loss: 1.1606 - accuracy: 0.4814 - val_loss: 0.9864 - val_accuracy: 0.6333\n",
            "Epoch 6/100\n",
            "8/8 [==============================] - 0s 12ms/step - loss: 1.0589 - accuracy: 0.5817 - val_loss: 0.8752 - val_accuracy: 0.6667\n",
            "Epoch 7/100\n",
            "8/8 [==============================] - 0s 12ms/step - loss: 0.8469 - accuracy: 0.7404 - val_loss: 0.7330 - val_accuracy: 0.7667\n",
            "Epoch 8/100\n",
            "8/8 [==============================] - 0s 12ms/step - loss: 0.6563 - accuracy: 0.8236 - val_loss: 0.5882 - val_accuracy: 0.8500\n",
            "Epoch 9/100\n",
            "8/8 [==============================] - 0s 13ms/step - loss: 0.4632 - accuracy: 0.8639 - val_loss: 0.4681 - val_accuracy: 0.9000\n",
            "Epoch 10/100\n",
            "8/8 [==============================] - 0s 12ms/step - loss: 0.4129 - accuracy: 0.9082 - val_loss: 0.4310 - val_accuracy: 0.9000\n",
            "Epoch 11/100\n",
            "8/8 [==============================] - 0s 12ms/step - loss: 0.2841 - accuracy: 0.9287 - val_loss: 0.3403 - val_accuracy: 0.9333\n",
            "Epoch 12/100\n",
            "8/8 [==============================] - 0s 12ms/step - loss: 0.1460 - accuracy: 0.9713 - val_loss: 0.3532 - val_accuracy: 0.9000\n",
            "Epoch 13/100\n",
            "8/8 [==============================] - 0s 11ms/step - loss: 0.1580 - accuracy: 0.9490 - val_loss: 0.3525 - val_accuracy: 0.9000\n",
            "Epoch 14/100\n",
            "8/8 [==============================] - 0s 11ms/step - loss: 0.0937 - accuracy: 0.9822 - val_loss: 0.3418 - val_accuracy: 0.9000\n",
            "Epoch 15/100\n",
            "8/8 [==============================] - 0s 12ms/step - loss: 0.1005 - accuracy: 0.9762 - val_loss: 0.3251 - val_accuracy: 0.9167\n",
            "Epoch 16/100\n",
            "8/8 [==============================] - 0s 11ms/step - loss: 0.0832 - accuracy: 0.9802 - val_loss: 0.4627 - val_accuracy: 0.8667\n",
            "Epoch 17/100\n",
            "8/8 [==============================] - 0s 12ms/step - loss: 0.0965 - accuracy: 0.9710 - val_loss: 0.3496 - val_accuracy: 0.9000\n",
            "Epoch 18/100\n",
            "8/8 [==============================] - 0s 11ms/step - loss: 0.0564 - accuracy: 0.9891 - val_loss: 0.3291 - val_accuracy: 0.9167\n",
            "Epoch 19/100\n",
            "8/8 [==============================] - 0s 13ms/step - loss: 0.0432 - accuracy: 0.9991 - val_loss: 0.3609 - val_accuracy: 0.9000\n",
            "Epoch 20/100\n",
            "8/8 [==============================] - 0s 12ms/step - loss: 0.0509 - accuracy: 0.9886 - val_loss: 0.3736 - val_accuracy: 0.9000\n",
            "Epoch 21/100\n",
            "8/8 [==============================] - 0s 12ms/step - loss: 0.0367 - accuracy: 0.9944 - val_loss: 0.3672 - val_accuracy: 0.9000\n",
            "Epoch 22/100\n",
            "8/8 [==============================] - 0s 12ms/step - loss: 0.0290 - accuracy: 0.9964 - val_loss: 0.3606 - val_accuracy: 0.9000\n",
            "Epoch 23/100\n",
            "8/8 [==============================] - 0s 12ms/step - loss: 0.0318 - accuracy: 0.9971 - val_loss: 0.3948 - val_accuracy: 0.9000\n",
            "Epoch 24/100\n",
            "8/8 [==============================] - 0s 12ms/step - loss: 0.0488 - accuracy: 0.9881 - val_loss: 0.3413 - val_accuracy: 0.9333\n",
            "Epoch 25/100\n",
            "8/8 [==============================] - 0s 11ms/step - loss: 0.0270 - accuracy: 0.9900 - val_loss: 0.3979 - val_accuracy: 0.9167\n",
            "Epoch 26/100\n",
            "8/8 [==============================] - 0s 11ms/step - loss: 0.0186 - accuracy: 0.9966 - val_loss: 0.4138 - val_accuracy: 0.9000\n",
            "Epoch 27/100\n",
            "8/8 [==============================] - 0s 12ms/step - loss: 0.0368 - accuracy: 0.9886 - val_loss: 0.3453 - val_accuracy: 0.9333\n",
            "Epoch 28/100\n",
            "8/8 [==============================] - 0s 12ms/step - loss: 0.0149 - accuracy: 0.9973 - val_loss: 0.3795 - val_accuracy: 0.9167\n",
            "Epoch 29/100\n",
            "8/8 [==============================] - 0s 11ms/step - loss: 0.0166 - accuracy: 1.0000 - val_loss: 0.3974 - val_accuracy: 0.9000\n",
            "Epoch 30/100\n",
            "8/8 [==============================] - 0s 12ms/step - loss: 0.0145 - accuracy: 0.9937 - val_loss: 0.3889 - val_accuracy: 0.9000\n",
            "Epoch 31/100\n",
            "8/8 [==============================] - 0s 11ms/step - loss: 0.0186 - accuracy: 0.9980 - val_loss: 0.4258 - val_accuracy: 0.9000\n",
            "Epoch 32/100\n",
            "8/8 [==============================] - 0s 11ms/step - loss: 0.0143 - accuracy: 1.0000 - val_loss: 0.4547 - val_accuracy: 0.9000\n",
            "Epoch 33/100\n",
            "8/8 [==============================] - 0s 12ms/step - loss: 0.0206 - accuracy: 0.9935 - val_loss: 0.3963 - val_accuracy: 0.9000\n",
            "Epoch 34/100\n",
            "8/8 [==============================] - 0s 12ms/step - loss: 0.0101 - accuracy: 1.0000 - val_loss: 0.4350 - val_accuracy: 0.9000\n",
            "Epoch 35/100\n",
            "8/8 [==============================] - 0s 12ms/step - loss: 0.0066 - accuracy: 1.0000 - val_loss: 0.4414 - val_accuracy: 0.9000\n",
            "Epoch 36/100\n",
            "8/8 [==============================] - 0s 12ms/step - loss: 0.0086 - accuracy: 1.0000 - val_loss: 0.4310 - val_accuracy: 0.9000\n",
            "Epoch 37/100\n",
            "8/8 [==============================] - 0s 12ms/step - loss: 0.0063 - accuracy: 1.0000 - val_loss: 0.4248 - val_accuracy: 0.9167\n",
            "Epoch 38/100\n",
            "8/8 [==============================] - 0s 12ms/step - loss: 0.0139 - accuracy: 1.0000 - val_loss: 0.4196 - val_accuracy: 0.9167\n",
            "Epoch 39/100\n",
            "8/8 [==============================] - 0s 14ms/step - loss: 0.0088 - accuracy: 1.0000 - val_loss: 0.3914 - val_accuracy: 0.9333\n",
            "Epoch 40/100\n",
            "8/8 [==============================] - 0s 13ms/step - loss: 0.0085 - accuracy: 0.9973 - val_loss: 0.3911 - val_accuracy: 0.9167\n",
            "Epoch 41/100\n",
            "8/8 [==============================] - 0s 11ms/step - loss: 0.0084 - accuracy: 1.0000 - val_loss: 0.3781 - val_accuracy: 0.9333\n",
            "Epoch 42/100\n",
            "8/8 [==============================] - 0s 12ms/step - loss: 0.0074 - accuracy: 1.0000 - val_loss: 0.4352 - val_accuracy: 0.9167\n",
            "Epoch 43/100\n",
            "8/8 [==============================] - 0s 12ms/step - loss: 0.0049 - accuracy: 1.0000 - val_loss: 0.5001 - val_accuracy: 0.9000\n",
            "Epoch 44/100\n",
            "8/8 [==============================] - 0s 12ms/step - loss: 0.0155 - accuracy: 0.9953 - val_loss: 0.4482 - val_accuracy: 0.9167\n",
            "Epoch 45/100\n",
            "8/8 [==============================] - 0s 12ms/step - loss: 0.0079 - accuracy: 1.0000 - val_loss: 0.3980 - val_accuracy: 0.9167\n",
            "Epoch 46/100\n",
            "8/8 [==============================] - 0s 11ms/step - loss: 0.0170 - accuracy: 0.9901 - val_loss: 0.5116 - val_accuracy: 0.9000\n",
            "Epoch 47/100\n",
            "8/8 [==============================] - 0s 12ms/step - loss: 0.0122 - accuracy: 0.9953 - val_loss: 0.4290 - val_accuracy: 0.9167\n",
            "Epoch 48/100\n",
            "8/8 [==============================] - 0s 12ms/step - loss: 0.0059 - accuracy: 0.9980 - val_loss: 0.4083 - val_accuracy: 0.9333\n",
            "Epoch 49/100\n",
            "8/8 [==============================] - 0s 11ms/step - loss: 0.0043 - accuracy: 1.0000 - val_loss: 0.4501 - val_accuracy: 0.9167\n",
            "Epoch 50/100\n",
            "8/8 [==============================] - 0s 12ms/step - loss: 0.0040 - accuracy: 1.0000 - val_loss: 0.4938 - val_accuracy: 0.9167\n",
            "Epoch 51/100\n",
            "8/8 [==============================] - 0s 12ms/step - loss: 0.0089 - accuracy: 0.9935 - val_loss: 0.4726 - val_accuracy: 0.9167\n",
            "Epoch 52/100\n",
            "8/8 [==============================] - 0s 11ms/step - loss: 0.0035 - accuracy: 1.0000 - val_loss: 0.4443 - val_accuracy: 0.9167\n",
            "Epoch 53/100\n",
            "8/8 [==============================] - 0s 13ms/step - loss: 0.0055 - accuracy: 0.9986 - val_loss: 0.4708 - val_accuracy: 0.9167\n",
            "Epoch 54/100\n",
            "8/8 [==============================] - 0s 12ms/step - loss: 0.0026 - accuracy: 1.0000 - val_loss: 0.5800 - val_accuracy: 0.8833\n",
            "Epoch 55/100\n",
            "8/8 [==============================] - 0s 11ms/step - loss: 0.0082 - accuracy: 1.0000 - val_loss: 0.5014 - val_accuracy: 0.9167\n",
            "Epoch 56/100\n",
            "8/8 [==============================] - 0s 12ms/step - loss: 0.0046 - accuracy: 1.0000 - val_loss: 0.4355 - val_accuracy: 0.9333\n",
            "Epoch 57/100\n",
            "8/8 [==============================] - 0s 12ms/step - loss: 0.0024 - accuracy: 1.0000 - val_loss: 0.3983 - val_accuracy: 0.9333\n",
            "Epoch 58/100\n",
            "8/8 [==============================] - 0s 12ms/step - loss: 0.0114 - accuracy: 0.9901 - val_loss: 0.4724 - val_accuracy: 0.9167\n",
            "Epoch 59/100\n",
            "8/8 [==============================] - 0s 11ms/step - loss: 0.0024 - accuracy: 1.0000 - val_loss: 0.5016 - val_accuracy: 0.9167\n",
            "Epoch 60/100\n",
            "8/8 [==============================] - 0s 15ms/step - loss: 0.0039 - accuracy: 1.0000 - val_loss: 0.4981 - val_accuracy: 0.9167\n",
            "Epoch 61/100\n",
            "8/8 [==============================] - 0s 13ms/step - loss: 0.0032 - accuracy: 1.0000 - val_loss: 0.4685 - val_accuracy: 0.9167\n",
            "Epoch 62/100\n",
            "8/8 [==============================] - 0s 12ms/step - loss: 0.0029 - accuracy: 1.0000 - val_loss: 0.4395 - val_accuracy: 0.9333\n",
            "Epoch 63/100\n",
            "8/8 [==============================] - 0s 12ms/step - loss: 0.0027 - accuracy: 1.0000 - val_loss: 0.4384 - val_accuracy: 0.9167\n",
            "Epoch 64/100\n",
            "8/8 [==============================] - 0s 13ms/step - loss: 0.0039 - accuracy: 1.0000 - val_loss: 0.4926 - val_accuracy: 0.9167\n",
            "Epoch 65/100\n",
            "8/8 [==============================] - 0s 11ms/step - loss: 0.0017 - accuracy: 1.0000 - val_loss: 0.5237 - val_accuracy: 0.9167\n",
            "Epoch 66/100\n",
            "8/8 [==============================] - 0s 11ms/step - loss: 0.0016 - accuracy: 1.0000 - val_loss: 0.5426 - val_accuracy: 0.9000\n",
            "Epoch 67/100\n",
            "8/8 [==============================] - 0s 13ms/step - loss: 0.0019 - accuracy: 1.0000 - val_loss: 0.5409 - val_accuracy: 0.9000\n",
            "Epoch 68/100\n",
            "8/8 [==============================] - 0s 12ms/step - loss: 0.0042 - accuracy: 1.0000 - val_loss: 0.4896 - val_accuracy: 0.9167\n",
            "Epoch 69/100\n",
            "8/8 [==============================] - 0s 13ms/step - loss: 0.0015 - accuracy: 1.0000 - val_loss: 0.4601 - val_accuracy: 0.9167\n",
            "Epoch 70/100\n",
            "8/8 [==============================] - 0s 12ms/step - loss: 0.0016 - accuracy: 1.0000 - val_loss: 0.4490 - val_accuracy: 0.9167\n",
            "Epoch 71/100\n",
            "8/8 [==============================] - 0s 13ms/step - loss: 0.0013 - accuracy: 1.0000 - val_loss: 0.4504 - val_accuracy: 0.9167\n",
            "Epoch 72/100\n",
            "8/8 [==============================] - 0s 12ms/step - loss: 0.0025 - accuracy: 1.0000 - val_loss: 0.4739 - val_accuracy: 0.9167\n",
            "Epoch 73/100\n",
            "8/8 [==============================] - 0s 12ms/step - loss: 0.0017 - accuracy: 1.0000 - val_loss: 0.4959 - val_accuracy: 0.9167\n",
            "Epoch 74/100\n",
            "8/8 [==============================] - 0s 12ms/step - loss: 0.0015 - accuracy: 1.0000 - val_loss: 0.5113 - val_accuracy: 0.9167\n",
            "Epoch 75/100\n",
            "8/8 [==============================] - 0s 12ms/step - loss: 0.0013 - accuracy: 1.0000 - val_loss: 0.5185 - val_accuracy: 0.9167\n",
            "Epoch 76/100\n",
            "8/8 [==============================] - 0s 15ms/step - loss: 0.0022 - accuracy: 1.0000 - val_loss: 0.4926 - val_accuracy: 0.9167\n",
            "Epoch 77/100\n",
            "8/8 [==============================] - 0s 12ms/step - loss: 0.0014 - accuracy: 1.0000 - val_loss: 0.4599 - val_accuracy: 0.9167\n",
            "Epoch 78/100\n",
            "8/8 [==============================] - 0s 11ms/step - loss: 0.0012 - accuracy: 1.0000 - val_loss: 0.4571 - val_accuracy: 0.9167\n",
            "Epoch 79/100\n",
            "8/8 [==============================] - 0s 11ms/step - loss: 0.0019 - accuracy: 1.0000 - val_loss: 0.4745 - val_accuracy: 0.9167\n",
            "Epoch 80/100\n",
            "8/8 [==============================] - 0s 12ms/step - loss: 0.0013 - accuracy: 1.0000 - val_loss: 0.4977 - val_accuracy: 0.9167\n",
            "Epoch 81/100\n",
            "8/8 [==============================] - 0s 13ms/step - loss: 0.0014 - accuracy: 1.0000 - val_loss: 0.5194 - val_accuracy: 0.9167\n",
            "Epoch 82/100\n",
            "8/8 [==============================] - 0s 12ms/step - loss: 0.0013 - accuracy: 1.0000 - val_loss: 0.5314 - val_accuracy: 0.9167\n",
            "Epoch 83/100\n",
            "8/8 [==============================] - 0s 11ms/step - loss: 0.0015 - accuracy: 1.0000 - val_loss: 0.5369 - val_accuracy: 0.9167\n",
            "Epoch 84/100\n",
            "8/8 [==============================] - 0s 11ms/step - loss: 0.0013 - accuracy: 1.0000 - val_loss: 0.5487 - val_accuracy: 0.9167\n",
            "Epoch 85/100\n",
            "8/8 [==============================] - 0s 13ms/step - loss: 0.0017 - accuracy: 1.0000 - val_loss: 0.5506 - val_accuracy: 0.9167\n",
            "Epoch 86/100\n",
            "8/8 [==============================] - 0s 12ms/step - loss: 0.0011 - accuracy: 1.0000 - val_loss: 0.5453 - val_accuracy: 0.9167\n",
            "Epoch 87/100\n",
            "8/8 [==============================] - 0s 11ms/step - loss: 0.0011 - accuracy: 1.0000 - val_loss: 0.5478 - val_accuracy: 0.9167\n",
            "Epoch 88/100\n",
            "8/8 [==============================] - 0s 12ms/step - loss: 0.0013 - accuracy: 1.0000 - val_loss: 0.5468 - val_accuracy: 0.9167\n",
            "Epoch 89/100\n",
            "8/8 [==============================] - 0s 13ms/step - loss: 0.0010 - accuracy: 1.0000 - val_loss: 0.5447 - val_accuracy: 0.9167\n",
            "Epoch 90/100\n",
            "8/8 [==============================] - 0s 12ms/step - loss: 8.2146e-04 - accuracy: 1.0000 - val_loss: 0.5440 - val_accuracy: 0.9167\n",
            "Epoch 91/100\n",
            "8/8 [==============================] - 0s 12ms/step - loss: 0.0010 - accuracy: 1.0000 - val_loss: 0.5426 - val_accuracy: 0.9167\n",
            "Epoch 92/100\n",
            "8/8 [==============================] - 0s 12ms/step - loss: 0.0027 - accuracy: 1.0000 - val_loss: 0.4979 - val_accuracy: 0.9167\n",
            "Epoch 93/100\n",
            "8/8 [==============================] - 0s 12ms/step - loss: 0.0015 - accuracy: 1.0000 - val_loss: 0.4874 - val_accuracy: 0.9167\n",
            "Epoch 94/100\n",
            "8/8 [==============================] - 0s 12ms/step - loss: 0.0017 - accuracy: 1.0000 - val_loss: 0.5045 - val_accuracy: 0.9167\n",
            "Epoch 95/100\n",
            "8/8 [==============================] - 0s 12ms/step - loss: 0.0011 - accuracy: 1.0000 - val_loss: 0.5138 - val_accuracy: 0.9167\n",
            "Epoch 96/100\n",
            "8/8 [==============================] - 0s 13ms/step - loss: 0.0012 - accuracy: 1.0000 - val_loss: 0.5285 - val_accuracy: 0.9167\n",
            "Epoch 97/100\n",
            "8/8 [==============================] - 0s 13ms/step - loss: 9.5559e-04 - accuracy: 1.0000 - val_loss: 0.5371 - val_accuracy: 0.9167\n",
            "Epoch 98/100\n",
            "8/8 [==============================] - 0s 12ms/step - loss: 9.8839e-04 - accuracy: 1.0000 - val_loss: 0.5417 - val_accuracy: 0.9167\n",
            "Epoch 99/100\n",
            "8/8 [==============================] - 0s 12ms/step - loss: 9.8254e-04 - accuracy: 1.0000 - val_loss: 0.5389 - val_accuracy: 0.9167\n",
            "Epoch 100/100\n",
            "8/8 [==============================] - 0s 11ms/step - loss: 8.7483e-04 - accuracy: 1.0000 - val_loss: 0.5410 - val_accuracy: 0.9167\n"
          ],
          "name": "stdout"
        },
        {
          "output_type": "execute_result",
          "data": {
            "text/plain": [
              "<keras.callbacks.History at 0x7fd2f619e150>"
            ]
          },
          "metadata": {
            "tags": []
          },
          "execution_count": 19
        }
      ]
    },
    {
      "cell_type": "markdown",
      "metadata": {
        "id": "qhnlL7omPA4Z"
      },
      "source": [
        ""
      ]
    },
    {
      "cell_type": "code",
      "metadata": {
        "colab": {
          "base_uri": "https://localhost:8080/"
        },
        "id": "78y0ixCkKaOj",
        "outputId": "2eb89d6a-42b9-4ee5-9107-cb1073f8bff7"
      },
      "source": [
        "count = 0\n",
        "videoFile = \"/content/drive/MyDrive/tom and jerry/testing/Tom and Jerry 3.mp4\"\n",
        "cap = cv2.VideoCapture(videoFile)\n",
        "frameRate = cap.get(5) #frame rate\n",
        "x=1\n",
        "while(cap.isOpened()):\n",
        "    frameId = cap.get(1) #current frame number\n",
        "    ret, frame = cap.read()\n",
        "    if (ret != True):\n",
        "        break\n",
        "    if (frameId % math.floor(frameRate) == 0):\n",
        "        filename =\"/content/drive/MyDrive/tom and jerry/testing/frames/test%d.jpg\" % count;count+=1\n",
        "        cv2.imwrite(filename, frame)\n",
        "cap.release()\n",
        "print (\"Done!\")"
      ],
      "execution_count": null,
      "outputs": [
        {
          "output_type": "stream",
          "text": [
            "Done!\n"
          ],
          "name": "stdout"
        }
      ]
    },
    {
      "cell_type": "code",
      "metadata": {
        "id": "bt_sFj_JKaj_"
      },
      "source": [
        "test = pd.read_csv('/content/drive/MyDrive/tom and jerry/testing/test (1).csv')"
      ],
      "execution_count": null,
      "outputs": []
    },
    {
      "cell_type": "code",
      "metadata": {
        "id": "2rlkhNPBPFmU"
      },
      "source": [
        "test_image = []\n",
        "for img_name in test.Image_ID:\n",
        "    img = plt.imread('/content/drive/MyDrive/tom and jerry/testing/frames/' + img_name)\n",
        "    test_image.append(img)\n",
        "test_img = np.array(test_image)"
      ],
      "execution_count": null,
      "outputs": []
    },
    {
      "cell_type": "code",
      "metadata": {
        "id": "HtnlAlBEPFyM"
      },
      "source": [
        "test_image = []\n",
        "for i in range(0,test_img.shape[0]):\n",
        "    a = resize(test_img[i], preserve_range=True, output_shape=(224,224)).astype(int)\n",
        "    test_image.append(a)\n",
        "test_image = np.array(test_image)"
      ],
      "execution_count": null,
      "outputs": []
    },
    {
      "cell_type": "code",
      "metadata": {
        "id": "IZj4w7paPF-w"
      },
      "source": [
        "# preprocessing the images\n",
        "test_image = preprocess_input(test_image)\n",
        "\n",
        "# extracting features from the images using pretrained model\n",
        "test_image = base_model.predict(test_image)\n",
        "\n",
        "# converting the images to 1-D form\n",
        "test_image = test_image.reshape(186, 7*7*512)\n",
        "\n",
        "# zero centered images\n",
        "test_image = test_image/test_image.max()"
      ],
      "execution_count": null,
      "outputs": []
    },
    {
      "cell_type": "code",
      "metadata": {
        "colab": {
          "base_uri": "https://localhost:8080/"
        },
        "id": "e_Jg-VMUPGLi",
        "outputId": "ab4e5d6b-8e74-4924-be84-352bdfb6f13f"
      },
      "source": [
        "predictions = model.predict_classes(test_image)"
      ],
      "execution_count": null,
      "outputs": [
        {
          "output_type": "stream",
          "text": [
            "/usr/local/lib/python3.7/dist-packages/keras/engine/sequential.py:450: UserWarning: `model.predict_classes()` is deprecated and will be removed after 2021-01-01. Please use instead:* `np.argmax(model.predict(x), axis=-1)`,   if your model does multi-class classification   (e.g. if it uses a `softmax` last-layer activation).* `(model.predict(x) > 0.5).astype(\"int32\")`,   if your model does binary classification   (e.g. if it uses a `sigmoid` last-layer activation).\n",
            "  warnings.warn('`model.predict_classes()` is deprecated and '\n"
          ],
          "name": "stderr"
        }
      ]
    },
    {
      "cell_type": "code",
      "metadata": {
        "colab": {
          "base_uri": "https://localhost:8080/"
        },
        "id": "Qq7sJv3UPHKR",
        "outputId": "b50f02e3-6ff7-4f40-f247-7203f45ec4b9"
      },
      "source": [
        "print(\"The screen time of JERRY is\", predictions[predictions==1].shape[0], \"seconds\")\n",
        "print(\"The screen time of TOM is\", predictions[predictions==2].shape[0], \"seconds\")"
      ],
      "execution_count": null,
      "outputs": [
        {
          "output_type": "stream",
          "text": [
            "The screen time of JERRY is 3 seconds\n",
            "The screen time of TOM is 102 seconds\n"
          ],
          "name": "stdout"
        }
      ]
    },
    {
      "cell_type": "code",
      "metadata": {
        "id": "Idqy0ErQPH26"
      },
      "source": [
        ""
      ],
      "execution_count": null,
      "outputs": []
    }
  ]
}